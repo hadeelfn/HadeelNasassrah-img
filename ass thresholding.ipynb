{
 "cells": [
  {
   "cell_type": "raw",
   "metadata": {},
   "source": [
    "Thresholding"
   ]
  },
  {
   "cell_type": "markdown",
   "metadata": {},
   "source": [
    "apply to functions  thresholding to an image. Thresholding is a type of image segmentation, where we somehow change\n",
    "the pixels of an image to make the image easier to analyze. In thresholding, we convert an image from color or grayscale into \n",
    "a binary image, i.e., one that is simply black and white. Most frequently, we use thresholding as a way to select areas of\n",
    "interest of an image, while ignoring the parts we are not concerned with. \n"
   ]
  },
  {
   "cell_type": "code",
   "execution_count": null,
   "metadata": {},
   "outputs": [],
   "source": [
    "import cv2\n",
    "import numpy as np\n",
    "from matplotlib import pyplot as plt #loads up the pyplot library\n",
    "\n",
    "\n",
    "img = cv2.imread(\"images/roots.jpg\",0)# read the image as grayscale \n",
    "imgC = cv2.imread(\"images/roots.jpg\")\n",
    "\n",
    "plt.subplot(121),plt.imshow(img),plt.title('Original')\n",
    "plt.xticks([]), plt.yticks([])\n",
    "plt.subplot(122),plt.hist(img.ravel(),256,[0,256])#the first parameter to the function is the list of images to process.\n",
    "#The next parameter is the histogram size, or the number of “bins” to use for the histogram #256 >> grayscale image.\n",
    "#final parameter is the range of values each of the pixels in the image can have. Assuming 24-bit color, each channel\n",
    "#has values between 0 and 255.\n",
    "\n",
    "plt.title('histogram')\n",
    "plt.xticks([]), plt.yticks([])  \n",
    "plt.xlabel(\"grayscale value\")\n",
    "plt.ylabel(\"pixels\")\n",
    "plt.show() \n",
    "\n",
    "ret,thresh = cv2.threshold(img,200,220,cv2.THRESH_BINARY)# a binary image\n",
    "#cv2.threshold() method only works with 8 bit grayscale images.\n",
    "\n",
    "objectimg = cv2.bitwise_and(img, thresh) #Here I took two images to blend them together\n",
    "\n",
    "ret,BGwhiteimg = cv2.threshold(img,127,255,cv2.THRESH_BINARY_INV)# perform inverse binary thresholding\n",
    "GrayBG = cv2.bitwise_and(img,BGwhiteimg)#Here I took two images to blend them together\n",
    "blur = cv2.GaussianBlur(GrayBG,(127,76),0) # smoth(reduce image noise)\n",
    "addimg = cv2.add(objectimg, blur)#here You can add two images by OpenCV function, cv2.add() \n",
    "#Both images should be of same depth and type, or second image can just be a scalar value.\n",
    "\n",
    "images= [imgC,img,thresh1,objectimg,BGwhiteimg,GrayBG,blur,addimg]# array to print images.\n",
    "\n",
    "for i in range(8):#to array to print images.\n",
    "   \n",
    "    plt.subplot(3,3,i+1),plt.imshow(images[i],'gray')\n",
    "    plt.xticks([]), plt.yticks([])\n",
    "    plt.show()\n",
    "  \n",
    " ret,thresh = cv2.threshold(img,127,255,cv2.THRESH_BINARY)\n",
    "    \n",
    "    objectimg = cv2.multiply(img/255, thresh/255)# multiply for 2 image\n",
    "ret,BGwhiteimg = cv2.threshold(gimg,127,255,cv2.THRESH_BINARY_INV)\n",
    "GrayBG = cv2.multiply(img/255,BGwhiteimg/255)\n",
    "blur = cv2.GaussianBlur(GrayBG,(127,77),0)\n",
    "\n",
    "addimg = cv2.add(objectimg, blur)\n",
    "\n",
    "\n",
    "# display the result\n",
    "cv2.imshow('result',addimg)\n",
    "cv2.waitKey(0)\n",
    "cv2.killAllWindows()   \n",
    "    \n",
    "\n",
    "\n",
    "\n",
    "\n"
   ]
  },
  {
   "cell_type": "markdown",
   "metadata": {},
   "source": [
    "# The steps we have taken to make the background blurry:"
   ]
  },
  {
   "cell_type": "raw",
   "metadata": {},
   "source": [
    "1. We chose a picture that does not have a very large object\n",
    "2.The main feature we focused on are intensity pixel(color)\n",
    "3.I want to separate >> smoth method >> Thresholding\n",
    "4.After what we did hisogram for image We applied threshold tecneq ,through which I will separate the objecct from each other.\n",
    "5.I could do it labeling by binary image where the entire white area is the object I want to focus on\n",
    "6.Of the output (binary img)>> Multiplication (binary img, orginal img)\n",
    "7.I want to use the background because it is black by inverse (* -1) >>background whigt(pixel=1)\n",
    "8.After you have picked up the background ,become able to work nyberhod operation > smoothing (gaussian )\n",
    "9.background =bleur   , orginal img  >> i do Work Add between them.\n",
    "\n"
   ]
  },
  {
   "cell_type": "code",
   "execution_count": null,
   "metadata": {
    "collapsed": true
   },
   "outputs": [],
   "source": []
  }
 ],
 "metadata": {
  "kernelspec": {
   "display_name": "Python 3",
   "language": "python",
   "name": "python3"
  },
  "language_info": {
   "codemirror_mode": {
    "name": "ipython",
    "version": 3
   },
   "file_extension": ".py",
   "mimetype": "text/x-python",
   "name": "python",
   "nbconvert_exporter": "python",
   "pygments_lexer": "ipython3",
   "version": "3.6.1"
  }
 },
 "nbformat": 4,
 "nbformat_minor": 2
}
