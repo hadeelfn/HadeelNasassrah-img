{
 "cells": [
  {
   "cell_type": "code",
   "execution_count": null,
   "metadata": {
    "collapsed": true
   },
   "outputs": [],
   "source": [
    "import cv2 #include opencv library\n",
    "import numpy as np #numpy library >> for array\n",
    "\n",
    "img = cv2.imread('images/messi5.jpg',0)\n",
    "\n",
    "res = cv2.resize(img,None,fx=2, fy=2, interpolation = cv2.INTER_CUBIC)\n",
    "\n",
    "#OR\n",
    "height, width = img.shape[:2]\n",
    "res = cv2.resize(img,(2*width, 2*height), interpolation = cv2.INTER_CUBIC)\n",
    "cv2.imshow('resize 1', res);\n",
    "cv2.waitKey(0)\n",
    "cv2.destroyAllWindows()\n"
   ]
  },
  {
   "cell_type": "markdown",
   "metadata": {
    "collapsed": true
   },
   "source": [
    "import cv2 >> include opencv library\n",
    "import numpy as np >>  numpy library >> for array\n",
    "np >> is obj for numpy\n",
    "img = cv2.imread('images/messi5.jpg',0) >>Here we have read the picture and changed the intensity value to gray scale\n",
    "0 >> grayScale\n",
    "1 >> rgb\n",
    "resize >> This is a function take the picture that we have read and it make zooming by 2x ,2y \n",
    "interpolation >> kind of transformation (cv.inter_cubic)  #it changed rescale for img\n",
    "\n"
   ]
  },
  {
   "cell_type": "markdown",
   "metadata": {
    "collapsed": true
   },
   "source": [
    "# Method 2(#OR)\n",
    "height, width = img.shape[:2] >> taking dimension for img\n",
    "shap == fx 2 ,fy 2\n"
   ]
  },
  {
   "cell_type": "raw",
   "metadata": {
    "collapsed": true
   },
   "source": [
    "cv2.imshow >> View image\n",
    "\n",
    "'resize 1' >> Image title\n",
    "\n",
    " res  >> the picture itself\n",
    " \n",
    "cv2.waitKey(0) , cv2.destroyAllWindows()  >> Without them will be crashed (exception interrupt)\n",
    "To implement >> shift +enter\n",
    "* >> processing #To even press \"enter\" the picture appears\n",
    "\n",
    " \n",
    "\n"
   ]
  },
  {
   "cell_type": "markdown",
   "metadata": {},
   "source": [
    "# View a color image using 1 instead of 0\n"
   ]
  },
  {
   "cell_type": "code",
   "execution_count": null,
   "metadata": {
    "collapsed": true
   },
   "outputs": [],
   "source": [
    "import cv2\n",
    "import numpy as np\n",
    "\n",
    "img = cv2.imread('images/messi5.jpg',1)\n",
    "\n",
    "res = cv2.resize(img,None,fx=2, fy=2, interpolation = cv2.INTER_CUBIC)\n",
    "\n",
    "#OR\n",
    "\n",
    "height, width = img.shape[:2]\n",
    "res = cv2.resize(img,(2*width, 2*height), interpolation = cv2.INTER_CUBIC)\n",
    "cv2.imshow('resize 1', res);\n",
    "cv2.waitKey(0)\n",
    "cv2.destroyAllWindows()\n"
   ]
  }
 ],
 "metadata": {
  "kernelspec": {
   "display_name": "Python 3",
   "language": "python",
   "name": "python3"
  },
  "language_info": {
   "codemirror_mode": {
    "name": "ipython",
    "version": 3
   },
   "file_extension": ".py",
   "mimetype": "text/x-python",
   "name": "python",
   "nbconvert_exporter": "python",
   "pygments_lexer": "ipython3",
   "version": "3.6.1"
  }
 },
 "nbformat": 4,
 "nbformat_minor": 2
}
